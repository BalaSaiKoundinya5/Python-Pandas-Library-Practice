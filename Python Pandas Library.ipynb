{
 "cells": [
  {
   "cell_type": "markdown",
   "id": "2ccbc3c3-37c8-4b3f-937f-bc04717ca394",
   "metadata": {},
   "source": [
    "### What is Pandas?"
   ]
  },
  {
   "cell_type": "markdown",
   "id": "6795c5a8-07bc-4d5b-b639-a239ac06ff27",
   "metadata": {},
   "source": [
    "### Why Pandas\n",
    "1. Flexibility of Python\n",
    "2. Working with Big Data"
   ]
  },
  {
   "cell_type": "markdown",
   "id": "a38b70eb-5e06-423d-9cdf-77749a24a411",
   "metadata": {},
   "source": []
  }
 ],
 "metadata": {
  "kernelspec": {
   "display_name": "Python 3 (ipykernel)",
   "language": "python",
   "name": "python3"
  },
  "language_info": {
   "codemirror_mode": {
    "name": "ipython",
    "version": 3
   },
   "file_extension": ".py",
   "mimetype": "text/x-python",
   "name": "python",
   "nbconvert_exporter": "python",
   "pygments_lexer": "ipython3",
   "version": "3.12.5"
  }
 },
 "nbformat": 4,
 "nbformat_minor": 5
}
